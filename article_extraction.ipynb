{
  "nbformat": 4,
  "nbformat_minor": 0,
  "metadata": {
    "colab": {
      "name": "article_extraction.ipynb",
      "version": "0.3.2",
      "provenance": []
    },
    "kernelspec": {
      "name": "python3",
      "display_name": "Python 3"
    }
  },
  "cells": [
    {
      "metadata": {
        "id": "tPGdgvUxAhKQ",
        "colab_type": "code",
        "colab": {
          "base_uri": "https://localhost:8080/",
          "height": 171
        },
        "outputId": "c3b03a30-4955-43f2-de10-826d2914eaec"
      },
      "cell_type": "code",
      "source": [
        "!python -m spacy download en "
      ],
      "execution_count": 10,
      "outputs": [
        {
          "output_type": "stream",
          "text": [
            "Requirement already satisfied: en_core_web_sm==2.0.0 from https://github.com/explosion/spacy-models/releases/download/en_core_web_sm-2.0.0/en_core_web_sm-2.0.0.tar.gz#egg=en_core_web_sm==2.0.0 in /usr/local/lib/python3.6/dist-packages (2.0.0)\n",
            "\n",
            "\u001b[93m    Linking successful\u001b[0m\n",
            "    /usr/local/lib/python3.6/dist-packages/en_core_web_sm -->\n",
            "    /usr/local/lib/python3.6/dist-packages/spacy/data/en\n",
            "\n",
            "    You can now load the model via spacy.load('en')\n",
            "\n"
          ],
          "name": "stdout"
        }
      ]
    },
    {
      "metadata": {
        "id": "j2tWe3I8_dZr",
        "colab_type": "code",
        "colab": {}
      },
      "cell_type": "code",
      "source": [
        "import spacy\n",
        "from spacy import displacy\n",
        "from collections import Counter\n",
        "# import en_core_web_smimport \n",
        "import requests\n",
        "from bs4 import BeautifulSoup\n",
        "import re\n",
        "import urllib.request\n",
        "nlp = spacy.load('en_core_web_sm') "
      ],
      "execution_count": 0,
      "outputs": []
    },
    {
      "metadata": {
        "id": "tlUrVW6p_jms",
        "colab_type": "code",
        "colab": {}
      },
      "cell_type": "code",
      "source": [
        "r = requests.get('https://www.thehindu.com/news/national/andhra-pradesh/feeder/default.rss')\n",
        "# print(r.text)\n",
        "stripped = re.sub('<[^<]+?>', '', r.text)\n",
        "soup = BeautifulSoup(stripped)"
      ],
      "execution_count": 0,
      "outputs": []
    },
    {
      "metadata": {
        "id": "O1jTqCWG_0Oq",
        "colab_type": "code",
        "colab": {
          "base_uri": "https://localhost:8080/",
          "height": 554
        },
        "outputId": "e592a165-8eb5-4f14-bdbe-21ba505eab1e"
      },
      "cell_type": "code",
      "source": [
        "l = []\n",
        "for link in soup.find_all('p'):\n",
        "    temp = link.text.split(\" \")\n",
        "for i in temp:\n",
        "    if(i.startswith(\"http\")):\n",
        "        print(i)\n",
        "        l.append(i)"
      ],
      "execution_count": 16,
      "outputs": [
        {
          "output_type": "stream",
          "text": [
            "https://www.thehindu.com/\r\n",
            "\n",
            "https://www.thehindu.com/news/national/andhra-pradesh/drought-hit-tobacco-ryots-in-prakasam-seek-bailout/article26493439.ece\r\n",
            "\n",
            "https://www.thehindu.com/news/national/andhra-pradesh/teacher-on-a-mission-to-protect-environment/article26493431.ece\r\n",
            "\n",
            "https://www.thehindu.com/news/national/andhra-pradesh/mahadwaram-entry-revised-list-released/article26489607.ece\r\n",
            "\n",
            "https://www.thehindu.com/news/national/andhra-pradesh/tdp-best-qualified-for-the-peoples-mandate-naidu/article26489591.ece\r\n",
            "\n",
            "https://www.thehindu.com/news/national/andhra-pradesh/vote-for-party-that-will-keep-country-safe-himachal-pradesh-cm-tells-students/article26489569.ece\r\n",
            "\n",
            "https://www.thehindu.com/news/national/andhra-pradesh/team-work-on-display-in-chittoor-district/article26489567.ece\r\n",
            "\n",
            "https://www.thehindu.com/news/national/andhra-pradesh/over-158-lakh-applications-in-form-7-pending-disposal-ceo-dwivedi/article26489556.ece\r\n",
            "\n",
            "https://www.thehindu.com/news/national/andhra-pradesh/every-child-counts-for-these-workers/article26489554.ece\r\n",
            "\n",
            "https://www.thehindu.com/news/national/andhra-pradesh/4500-cr-released-towards-4th-phase-farm-loan-waiver/article26489533.ece\r\n",
            "\n",
            "https://www.thehindu.com/news/national/andhra-pradesh/telugu-desam-stronghold-may-see-a-vip-contestant/article26489522.ece\r\n",
            "\n",
            "https://www.thehindu.com/news/national/andhra-pradesh/race-for-tdp-ticket-hots-up-in-the-fort-town/article26489512.ece\r\n",
            "\n",
            "https://www.thehindu.com/news/national/andhra-pradesh/expenditure-sensitive-segments-to-be-under-watch-says-collector/article26489502.ece\r\n",
            "\n",
            "https://www.thehindu.com/news/national/andhra-pradesh/charge-sheet-against-cm/article26489497.ece\r\n",
            "\n",
            "https://www.thehindu.com/news/national/andhra-pradesh/bjp-state-executive-calls-naidus-bluff-on-centres-betrayal/article26489481.ece\r\n",
            "\n",
            "https://www.thehindu.com/news/national/andhra-pradesh/voters-go-up-by-over-1-lakh-in-krishna-since-jan/article26489477.ece\r\n",
            "\n"
          ],
          "name": "stdout"
        }
      ]
    },
    {
      "metadata": {
        "id": "qO2niWnIBx9r",
        "colab_type": "code",
        "colab": {
          "base_uri": "https://localhost:8080/",
          "height": 1549
        },
        "outputId": "892454fd-0701-4787-ccc5-1c47642f08fc"
      },
      "cell_type": "code",
      "source": [
        "paragraph_text = \"\"\n",
        "for i in range(1,len(l)):\n",
        "    w = urllib.request.urlopen(l[i])\n",
        "    html = w.read()\n",
        "    temp2 = BeautifulSoup(html)\n",
        "    id = l[i].split(\"/\")[-1].split(\".\")[0].split(\"e\")[1]\n",
        "    b = temp2.find(\"div\", attrs={'id':'content-body-14269002-'+id})\n",
        "    print(b)\n",
        "    print(\"*******************************************************************\")\n",
        "    for i in b.find_all(\"p\"):\n",
        "        paragraph_text = i.text\n",
        "    doc = nlp(paragraph_text)\n",
        "#     print(doc.ents)\n",
        "    print([(X.text, X.label_) for X in doc.ents])\n",
        "    print(\"-----------------------------------------------------------------------\")"
      ],
      "execution_count": 27,
      "outputs": [
        {
          "output_type": "stream",
          "text": [
            "<div id=\"content-body-14269002-26493439\">\n",
            "<p>Ahead of auctions that are scheduled to take place this month-end, farmers in the traditional tobacco growing areas of Prakasam district are pleading traders to bail them out by offering a better average price for their produce, which they say has been grown against much odds.</p><p>A prolonged dry spell coupled with an infestation of the parasitic weed Orabanche Cernua had taken a toll on productivity, as well as on the grade out-turn this year, both in the Southern Black Soil (SBS) and Southern Light Soil (SLS) regions, said farmers after holding a meeting to take stock of the situation ahead of the marketing season.</p><p>“We will be able to break even only if we are offered an average price of ₹150 per kg this year and ₹200 per kg for bright grade tobacco,” said Ongole II Farmer Association Secretary V.V. Prasad. </p><h2>Drought takes a toll</h2><p> Drought for the fifth consecutive year had forced them to incur additional expenses for arranging water through tankers to irrigate the crops, he adds.</p><p>Last year, the farmers had got an average price of ₹132 per kg. Cigarette manufacturers and exporters should offer at least ₹15 to ₹30 more per kg for various grades of tobacco for them to scrape through without incurring losses, said N. Chimpiraiah, a farmer leader from Vellampalli.</p><p>This year, productivity has been hit by 15-20% with more “thin-bodied” produce. Adding to the woes of farmers, more than 30% of the fields are infested by Orabanche Cernua, SBS Regional Manager G.Umamaheswara Rao explained. </p><h2>Crop estimates</h2><p>Tobacco production in SLS and SBS put together is expected to be in the range of 80 to 85 million kg this year. Adverse weather conditions led to more of medium and low grade varieties and less of bright grade varieties this year. </p><p>Crop production is expected to be between 80 to 85 million kg in the traditional tobacco growing areas of SBS and SLS. </p><p>While bright grade accounts for about 20% of the total produce, medium grade accounts for 40% while low grade accounts for the rest, he adds.</p><p>The e-auctions are set to commence from March 22 in the SLS auction platforms of Podili I, Podili II, Kanigiri, Kandukur I, Kandukur II, Kaligiri and D.C.Palli and from March 27 in the auction platforms of Ongole I, Ongole II, Tangutur I, Tangtur II, Kondepi I, Vellampalli I and Vellampalli II.</p>\n",
            "</div>\n",
            "*******************************************************************\n",
            "[('March 22', 'DATE'), ('SLS', 'ORG'), ('Podili', 'GPE'), ('Podili II', 'PERSON'), ('Kanigiri', 'PERSON'), ('Kandukur', 'PERSON'), ('Kandukur II', 'PERSON'), ('Kaligiri', 'PERSON'), ('D.C.Palli', 'PERSON'), ('March 27', 'DATE'), ('Ongole', 'ORG'), ('Tangtur II', 'PRODUCT'), ('Kondepi', 'ORG'), ('Vellampalli', 'PERSON'), ('Vellampalli II', 'PERSON')]\n",
            "-----------------------------------------------------------------------\n",
            "<div id=\"content-body-14269002-26493431\">\n",
            "<p>One fine morning in October, 2012, G. Sudhakar, a government teacher, was flipping through a newspaper at a tea stall in Chittoor when he came across news pertaining to the Hyderabad Conference of the Parties to the UN Convention on Biological Diversity (CBD). One particular story on crows and their services as the best urban scavengers attracted him so much that from that day his outlook towards flora and fauna started undergoing a sea change. </p><p>Mr. Sudhakar (50), a native of Chittoor town, is currently working at the Government Upper Primary School, 70 Kothapalli village of Yadamarri mandal. The impact of the conference was such that he extensively collected the literature of the meet, including newspaper clippings, brochures, lectures and souvenirs. For about six months, he was immersed in the theme of biodiversity. He found himself moved by the urge to simplify the message and teach the same to the students and make them practically do something to protect the environment and cherish a love for flora and fauna.</p><h2>Action plan</h2><p> From the beginning of the academic year 2013, Mr. Sudhakar chalked out an action plan to spread the message on biodiversity. During the last five years, the teacher visited as many as 170 schools not only in Andhra Pradesh, but also in Telangana, Tamil Nadu and Kerala, covering close to one lakh students. He would utilise the Casual Leaves to spread the message at NCC camps, social welfare hostels, exhibitions and environmental meets. </p><p>Mr. Sudhakar adopts a unique methodology to deliver his message and to create instant impact on the students. For instance, he extensively refers to the role of crow, the nearest dwelling bird of mankind. “It pained me so much as most people consider crow as a bad omen, going by its colour and voice. I kept repeatedly emphasising its role for mankind, as a scavenger. Now, many of my students have developed a sort of love and respect for crows,” says the teacher. </p><p>He would also speak about the role of sparrows, honeybee, butterflies and insects in pollination, which in turn would lead to the greater survival of greenery. “Each flower would serve many honeybees to collect the nectar. I observe with pride that many students and even several of my colleagues have altogether stopped plucking flowers and leaves in their surroundings. Flora and fauna are the best teachers,” says Mr. Sudhakar.</p>\n",
            "</div>\n",
            "*******************************************************************\n",
            "[('Flora', 'PERSON'), ('Sudhakar', 'PERSON')]\n",
            "-----------------------------------------------------------------------\n",
            "<div id=\"content-body-14269002-26489607\">\n",
            "<p>The government issued a G.O. (MS No. 240) on Sunday releasing a revised list of the dignitaries who can enter the Tirumala temple through its ‘Mahadwaram’ and instructed the Executive Officer of the Tirumala Tirupati Devasthanams to take necessary action. </p><p>The dignitaries are: President of India, Vice-President, Prime Minister, Governor of Andhra Pradesh (A.P.), former Presidents, former Vice-Presidents, Deputy Prime Minister, Chief Justice of India, Speaker of the Lok Sabha, Chief Minister of A.P., Union Ministers, Chief Ministers of other States, Governors of other States and judges of the Supreme Court of India.</p><p>All Ministers of A.P., former Prime Ministers, former Governors, former Chief Ministers of A.P., former Chief Justices of India, Speaker and Deputy Speaker of Legislative Assembly of A.P., Chairman and Deputy Chairman of Legislative Council of A.P. and Chief Justice of High Court of A.P. </p>\n",
            "</div>\n",
            "*******************************************************************\n",
            "[('Governors', 'ORG'), ('A.P.', 'ORG'), ('India', 'GPE'), ('Legislative Assembly of A.P.', 'ORG'), ('Legislative Council of A.P.', 'ORG'), ('High Court of A.P.', 'ORG')]\n",
            "-----------------------------------------------------------------------\n",
            "<div id=\"content-body-14269002-26489591\">\n",
            "<p>Chief Minister Chandrababu Naidu on Sunday said the TDP was geared up for the general elections and that it was up to the people to think whether any other party would have performed better than it.</p><p>He said it was time for the Opposition parties to be made to pay a price for conspiring against the State and called upon the electorate to remember that the Modi government had thrown the bifurcation promises to the winds. </p><p>Mr. Naidu said he was going to complain to the Election Commission of India in a day or two about the attempts made by some parties to get the names of voters deleted on a large-scale and the alleged theft of data from the IT company in Hyderabad to which the TDP outsourced its party.</p><p>Addressing media persons at the Praja Vedika, Mr. Naidu reiterated that the TRS and the YSR Congress Party (YSRCP) were bent on destabilising the TDP government and they should answer for the multi-pronged attack mounted by them.</p><p>He took strong objection to the manner in which Telangana Chief Minister K. Chandrasekhar Rao (KCR) allegedly meddled in the affairs of A.P. and suggested to the people to be wary of such forces inimical to the State and questioned why the Telangana government continued the litigation in giving A.P. its dues.</p><p>He said YSRCP president Y.S. Jagan Mohan Reddy should convince Mr. KCR to write to the Central government stating that he had no objection for giving the Special Category Status. </p>\n",
            "</div>\n",
            "*******************************************************************\n",
            "[('YSRCP', 'ORG'), ('Y.S.', 'GPE'), ('Jagan', 'PERSON'), ('Mohan Reddy', 'PERSON'), ('KCR', 'PERSON'), ('Central', 'ORG'), ('the Special Category Status', 'ORG')]\n",
            "-----------------------------------------------------------------------\n",
            "<div id=\"content-body-14269002-26489569\">\n",
            "<p>First-time voters must vote for a party that would keep the country safe, said Himachal Pradesh Chief Minister Jai Ram Thakur here on Sunday. </p><p>“I am not naming any political party, but you must vote that party to power which accords top priority to the country’s security, cares for its citizens and stands by soldiers who guard the borders,” he said, during an interaction with students of the Rashtriya Sanskrit Vidyapeetha here on Sunday.</p><p>Sandhya Rani (Uttar Pradesh), S.Vaishnavi (Tamil Nadu), Parthasarathi Patri and Durga Charan Panda (Odisha), and Ashish Kumar Pandey (Bihar) asked him questions on topics ranging from politics to youth affairs and the future of Sanskrit. </p><p>Highlighting the demographic dividend of the country, Mr. Thakur said the student community should take informed decisions as they played a key role in deciding the country’s future.</p><p>He laid emphasis on educating oneself along with imbibing moral values to become citizens with character. He said Himachal Pradesh was the second State after Uttarakhand to accord the second language status to Sanskrit. The decision would go a long way in promoting the language.</p><h2>Drug abuse</h2><p>Referring to drug abuse as a major problem among the youth, Mr. Thakur said consumption of alcohol posed a challenge to youth power in the country. When asked if it prohibition was a solution, he said inculcating moral values was a solution instead. </p><p>Later, he administered polio drops to infants.</p><p>Earlier, Registrar G.S.R. Krishnamurthy, Deans Rani Sadasiva Murthy (Academic affairs) and Prahlad Joshi (Education) accompanied Mr. Thakur to an exhibition on artefacts on the campus and presented him a copy of the ‘Bhagavadgita’.</p>\n",
            "</div>\n",
            "*******************************************************************\n",
            "[('Sadasiva Murthy', 'PERSON'), ('Prahlad Joshi', 'PERSON'), ('Education', 'ORG'), ('Thakur', 'PERSON'), ('Bhagavadgita’', 'GPE')]\n",
            "-----------------------------------------------------------------------\n",
            "<div id=\"content-body-14269002-26489567\">\n",
            "<p>Negotiating unmotorable roads and a rugged terrain, officials and volunteers reached 32 hamlets of Bangarupalem mandal in the district to conducted a pulse polio immunisation (PPI) drive. </p><p>Volunteers of the Rural Organization for Poverty Eradication Services (ROPES) along with officials negotiated a path through a forest for half an hour to take with them eight children to a vaccination camp from the Samasenumitta hamlet, close to the Tamil Nadu border. The remoteness of the hamlet is such that families did not know of the drive. </p><p>Volunteers visited mango plantations and fields abutting forests asking mothers to visit with their children mobile pulse polio camps. About 200 children from temporary habitations on the slopes of hillocks near Srinivasapuram, Pulimadugu and Paleru Bandapalle villages were brought to the camps on motorcycles. </p><h2>Enduring fear</h2><p>Paramedical staff, and local asha workers and anganwadi teachers helped in reaching out to parents to send their children to the camps. </p><p>ROPES Director P. Sree Latha said despite awareness programmes, some families didn’t take the drive seriously. “Some mothers continue to fear that taking polio drops would make a child suffer from high fever. Fortunately, more mothers are becoming aware every day,” she said.</p><p>Ms. Latha said that in coordination with village development committees, child-friendly accountability clubs and creative learning centres, officials covered 2,500 children in the hamlets. </p><p>“Our volunteers know locations of families with children below five years of years and could target them. Therefore the drive could be conducted successfully. They will continue to visit vulnerable villages for two days so that not even a single child is missed,” she said.</p>\n",
            "</div>\n",
            "*******************************************************************\n",
            "[('below five years of years', 'DATE'), ('two days', 'DATE')]\n",
            "-----------------------------------------------------------------------\n",
            "<div id=\"content-body-14269002-26489556\">\n",
            "<p>State Chief Electoral Officer Gopal Krishna Dwivedi on Sunday said 7,24,914 applications for deletion of voters were received in Form 7 as on March 9 and 5,25,957 of them were rejected and 1,58,124 were pending disposal. A report had been submitted to the Election Commission of India (ECI) on the complaints filed with it by the BJP and the YSR Congress (YSRCP), which alleged large-scale deletion of bona fide voters.</p><p>Whether the distribution of post-dated cheques to beneficiaries of ‘Pasupu-Kumkuma’ scheme was a violation of the Model Code of Conduct (MCC) was under the examination of the ECI, he said.</p><p>Mr. Dwivedi told media persons at the Secretariat that the disposal of the applications submitted in Form 7 would take a few days time after verification and the disbursal of benefits under various schemes after the MCC came into force would be dealt with on a case-by-case basis.</p><p>On enrolment of voters, Mr. Dwivedi said applications in Form 6 could be submitted only up to March 15 and the deletion of voters stood suspended forthwith. </p><p>As per the MCC, deletions could be done only with the approval of the ECI. As on January 11, the number of voters stood at 3.69 crore and nearly 2.65 lakh applications for new enrolment were being processed. </p><p>The MCC was applicable to not only the political parties but also all others including the government employees. </p><p> Mr. Dwivedi said the arrangement of the Electronic Voting Machines (EVMs) and the Voter Verifiable Paper Audit Trails (VVPAT) had almost been completed at 45,920 polling stations. </p><p>Ravi Shankar Ayyanar, Addl. DGP (Law and Order), said there were 9,345 critical polling station locations where security would be provided by the local police and the Central paramilitary forces. The number of police required was 1,06,470. </p>\n",
            "</div>\n",
            "*******************************************************************\n",
            "[('Ravi Shankar Ayyanar', 'PERSON'), ('Addl', 'PERSON'), ('Law', 'PERSON'), ('Order', 'PERSON'), ('9,345', 'CARDINAL'), ('Central', 'NORP'), ('1,06,470', 'DATE')]\n",
            "-----------------------------------------------------------------------\n",
            "<div id=\"content-body-14269002-26489554\">\n",
            "<p>Rugged and inhospitable terrain in the Nallamalla forest in Prakasam district has prevented officials from entering tribal villages there. Even during elections, travelling in helicopters remains the only viable option as chenchu and sugalis tribals share space with wild animals, including big cats. </p><p>However, this time, three teams of health workers fanned out in vehicles to sparsely-populated Chenchugudems in Yerragodapalem, Dornala and Pulalacheruvu mandals to administer polio drops to children. </p><p>About 1,000 children in 80 tribal hamlets in the forest were covered, says M.Srinivasa Rao, the Deputy District Medical and the Health Officer incharge at the Integrated Tribal Development Agency(ITDA). A number of children of pilgrims motoring down from Srisailam were given drops at Dornala as well. As sports utility vehicles (SUV) of a medical team led by Dr. P.Chandrasekar reached Peddamathalligudem, several villagers flocked to officials with their children for the administration of drops. </p><p>Dr. Chandrasekar inspected some tribal women and health supervisor Srikanth gave iron tablets to the ones who were anaemic.</p><h2>Establishing rapport</h2><p>Health worker K.Madhavi Latha enquired about the health of Kudumula Anjamma, who was delivered of a baby girl a few years ago after enduring premature labour pains. Back then, she was shifted to the Government Hospital at Yerragondapalem by her husband and brother on a make-shift stretcher. </p><p> Chenchus, who collect gum, medicinal herbs and honey from forests, generally don’t mingle freely with outsiders, Ms. Latha says, while giving polio drops to Ms. Anjamma’s 3-year-old daughter. Earlier, health workers had a tough time persuading tribals to get their children vaccinated. “In the past, on seeing outsiders, they used to climb trees. Slowly we have been able to established rapport with them,” she says, before heading for Naritadakala Chenchugudem, where only four families live. Other health workers visited Chenchugudems like Ponnalabailu, Nekkanti, Gutalachenu and Ankannagudem. “We don’t want to miss even a single child,” she add. As the team reached Palutla in the evening, chenchu and sugali women queued up outside the Hanuman temple to get their dear ones vaccinated. In contrast to other Chenchugudems, more than 1,000 tribals live here. Thanks to the Scheduled Tribes and Other Traditional Forest Dwellers (Recognition of Forest Rights) Act, 2006, food gatherers have turned into farmers and started cultivating cash crops. “Despite hardships, we want to eke out a living in the forests,” says a group of tribals, as workers settle at the village school to spend the night.</p>\n",
            "</div>\n",
            "*******************************************************************\n",
            "[('Chenchus', 'PERSON'), ('Latha', 'PERSON'), ('Anjamma', 'PERSON'), ('Naritadakala', 'GPE'), ('only four', 'CARDINAL'), ('Ponnalabailu, Nekkanti', 'ORG'), ('Gutalachenu', 'ORG'), ('Ankannagudem', 'GPE'), ('Palutla', 'GPE'), ('the evening', 'TIME'), ('Hanuman', 'PERSON'), ('Chenchugudems', 'ORG'), ('more than 1,000', 'CARDINAL'), ('the Scheduled Tribes', 'ORG'), ('Traditional Forest Dwellers', 'ORG'), ('Recognition of Forest Rights) Act', 'ORG'), ('2006', 'DATE'), ('the night', 'TIME')]\n",
            "-----------------------------------------------------------------------\n",
            "<div id=\"content-body-14269002-26489533\">\n",
            "<p>The Finance department on Sunday ordered the Special Commissioner, Agriculture Department, to release ₹4,500 crore towards debt redemption scheme for farmers, against the due of around ₹8,000 crore.</p><p>Last month, Agriculture Minister Somireddy Chandramohan Reddy said on the floor of the Assembly the government would release ₹8,000 crore towards farm debt redemption scheme ‘very soon’.</p><p>When contacted, the Minister said a budget allocation had been made and that the remaining funds could be adjusted in the new fiscal starting from April.</p><h2>Fears allayed</h2><p>Allaying apprehensions, the Minister said there was no reason to worry as the scheme “is an ongoing programme and the election code will not have any impact on it”. Citing the Telangana government’s ‘Rythu Bandhu’ scheme, he said the farmers there had received the second instalment in their accounts on the eve of polling. “The Election Commission did not raise any objection to it.” The Minister, in the Assembly, had said the government was committed to fulfilling its promise of waiving farm loans amounting to ₹24,000 crore, of which ₹15,200 crore had already been waived. </p>\n",
            "</div>\n",
            "*******************************************************************\n",
            "[('Telangana', 'PERSON'), ('second', 'ORDINAL'), ('The Election Commission', 'ORG'), ('Assembly', 'ORG'), ('₹24,000', 'GPE'), ('₹15,200', 'CARDINAL')]\n",
            "-----------------------------------------------------------------------\n",
            "<div id=\"content-body-14269002-26489522\">\n",
            "<p>Speculation that N. Lokesh, IT Minister and son of Chief Minister Chandrababu Naidu, is being considered as the candidate for the Bheemunipatnam Assembly constituency by the TDP leadership has generated a lot of political heat in the district. </p><p>In tune with it, other parties are said to be busy chalking out their strategies.</p><h2>‘Safest seat’</h2><p>The TDP, which is scouting for the safest seat for its key leader, seems to have zeroed in on Bheemunipatnam, the party’s stronghold since its inception in 1982. </p><p>Out of the eight elections conducted in the constituency after its formation, the TDP has emerged victorious in six. </p><p>Only in the elections held in 2004 and 2009, the party lost to the Congress and the Praja Rajyam Party respectively. </p><p>P. Ananda Gajapati Raju won the seat on the TDP ticket in 1983, R.S.D.P. Appala Narasimha Raju of the party created a record by winning hands down consecutively in 1985, 1989, 1994 and 1999 from the constituency.</p><p>Though the party lost in 2004 and 2009, it reclaimed the constituency in the 2014 elections.</p><h2>Muttamsetti’s exit</h2><p>Muttamsetti Srinivasa Rao, who won the seat on the PRP ticket in 2009, later joined the TDP and contested the elections in 2014 from the Anakapalle Parliamentary constituency. Irked over the denial of ticket from Bheemunipatnam, he quit the party recently and joined the YSRCP. It is learnt that the YSRCP has promised him ticket to contest from Bheemunipatnam.</p><h2>Ganta’s dilemma</h2><p>The TDP move to field Mr. Lokesh from Bheemunipatnam has come as a bolt from the blue for HRD Minister Ganta Srinivasa Rao, who is seeking to contest from the Assembly segment. If the TDP goes ahead with its plan, Mr. Srivasa Rao may be asked to move to Visakhapatnam North, much against his wish, according to sources. The Minister had expressed his “personal preference” to contest from Bheemunipatnam while replying to queries at a media conference in the city last week. Though he said it was for the leadership to take a decision, he seemed to be sure that the party would not “let him down.” </p><p>The TDP leadership is yet to take a decision on Visakhapatnam North constituency, from where P. Vishnu Kumar Raju of the BJP won in the 2014 elections with its support. </p><p>With the BJP parting ways with the TDP and Jana Sena Party president Pawan Kalyan, who supported the TDP in 2014, likely to field his own candidate, it may not be a cakewalk for the TDP in the constituency, notwithstanding the sops it showered on various sections ahead of the elections.</p>\n",
            "</div>\n",
            "*******************************************************************\n",
            "[('TDP', 'ORG'), ('Jana Sena Party', 'ORG'), ('Pawan Kalyan', 'PERSON'), ('TDP', 'ORG'), ('2014', 'DATE'), ('TDP', 'ORG')]\n",
            "-----------------------------------------------------------------------\n",
            "<div id=\"content-body-14269002-26489512\">\n",
            "<p>Fort town Vizianagaram has turned into a political battle ground for the TDP with too many aspirants vying for the Assembly ticket for the former princely state. There were nearly no aspirants for the Assembly ticket between 1983 and 2014 as Ashok Gajapathi Raju continued to be its lone nominee. </p><p>Before joining the TDP, he won the seat between 1978 and 1983 on the Janata Party ticket. However, the situation changed in 2014 with the TDP fielding him for the Parliament seat and fielded Meesala Geeta as MLA candidate. Both won. </p><p>Ms. Geeta is facing a tough challenge from many aspirants including Mr. Raju’s daughter Aditi Gajapathi Raju. Municipal chairman Prasadula Ramakrishna, his wife Kanakamahalakshmi, senior councillor Kandi Murali Naidu, TDP town president and senior physician VS Prasad, Vizianagaram Zilla Grandhalaya Samstha chairman B.S.S.V Narasinga Rao and others are also in the fray. Party supremo Chandrababu Naidu, who held a series of meetings with leaders, could not finalise the name. </p><p>Sources say the leadership is considering fielding Mr. Raju for the Assembly so that there would not be any objection from anyone including Ms. Geeta. </p><p>“Selection of MP candidate will be a tough task if Mr. Raju is given the Assembly ticket. Instead of inviting trouble, the party may ask him to contest for Parliament again while fielding Ms. Aditi Raju for the Assembly. All the leaders may work in tandem if the ticket is given to the Pusapati family,” said a senior leader. </p><p>Some leaders say allocation of two seats to the Raju family would send wrong signals to the strong BC community in the district headquarters. </p><p>“The leadership is giving tickets to sitting MLAs in majority seats and may opt for Ms. Geeta if it feels that Ms. Aditi needs to have more political experience to take on YSRCP leader Kolagatla Veerabhadra Swamy whose candidature was declared long ago,” said another leader. </p><p>Asked about the competition, Ms. Geeta said Vizianagaram was a safe seat for the party with unprecedented development that had taken place in the last five years. </p><p>“Healthy competition is always there in the TDP. But I left everything to Mr. Naidu and Mr. Raju. Their decision is final,” she told <em>The Hindu</em>.</p>\n",
            "</div>\n",
            "*******************************************************************\n",
            "[('TDP', 'ORG'), ('Naidu', 'PERSON'), ('Raju', 'PERSON'), ('Hindu', 'NORP')]\n",
            "-----------------------------------------------------------------------\n",
            "<div id=\"content-body-14269002-26489502\">\n",
            "<p>Special focus during the general elections would be on ‘expenditure-sensitive’ constituencies, but this status of a constituency could change based on the party, candidates and other factors dynamically, said District Election Officer G. Veerapandian.</p><p>At a joint press conference here on Sunday, Mr. Veerapandian said about 42,615 applications in form 6, 6A, 7, 8 &amp; 8A were pending before the District Election Office as on Sunday afternoon. About 33,000 applications made for deletions and contested through 25 complaints at various police stations in the district were scrutinised and more than 25,000 of them were rejected, the DEO said.</p><p>Out of the current pending applications, 12,200 would be approved immediately and 28,400 had to wait for varying periods depending on the provisions of the ECI Rules for verification. The officials had set up 3,879 polling stations in the district at 2,209 locations.</p><p>In the 14 Assembly constituencies and two Parliamentary constituencies, currently there are 30,58,909 voters. Of them, 204 are of third gender and 15,39,936 male voters and 15,18,769 female voters. There are 1,927 service voters.</p><p>Superintendent of Police G.V.G. Ashok Kumar said three check-posts per Assembly constituency were being set up, which would be manned by police and excise officials. Complaints could be made to the District Election Officer through toll-free number 1950, C-Vigil App or website. For candidates, Suvidha App had been developed, added Mr. Veerapandian.</p><h2>Challenging task</h2><p>The election machinery would be on toes in monitoring contents disseminated through social media to voters 24 x7, Prakasam Collector and District Election Officer V.Vinay Chand said.</p><p>Addressing the media, Mr. Vinay Chand said though keeping track of the posts on social media platforms such as Facebook, WhatsApp, YouTube to woo voters would be a challenging one, the machinery, by engaging specialist private agencies at the State and district levels for the purpose, would rise to the occasion.</p><p>As many as 36 criminal cases were registered against ‘mischief-mongers’ after rejecting 37,428 of the 49,098 form-7 applications filed by them, he said.</p><p>The administration was fully geared to hold free and fair elections in the 12 Assembly segments coming under Ongole (7), Bapatla(4) and Nellore(1) in the district with an electorate of 25.17 lakh, including 12.91 lakh women, he said, adding 10,893 balloting units, 8,250 controlling units and 8,914 Voter Verifiable Paper Audit Trail (VVPAT) machines were kept in readiness for use in 3,269 polling stations.</p>\n",
            "</div>\n",
            "*******************************************************************\n",
            "[('12', 'CARDINAL'), ('Assembly', 'ORG'), ('Ongole', 'PERSON'), ('Nellore(1', 'ORG'), ('25.17', 'CARDINAL'), ('12.91', 'CARDINAL'), ('10,893', 'CARDINAL'), ('8,250', 'CARDINAL'), ('8,914', 'CARDINAL'), ('VVPAT', 'ORG'), ('3,269', 'CARDINAL')]\n",
            "-----------------------------------------------------------------------\n",
            "<div id=\"content-body-14269002-26489497\">\n",
            "<p>The BJP’s State Executive has readied a “charge-sheet” against the TDP government and is all set to take it to the people’s domain. A committee will be constituted exclusively to read out the “deeds and misdeeds” of the TDP to the people. </p><p>A resolution passed at a meeting on Sunday lambasted the government for “mismanaging funds, dabbling with valuable farm lands in the garb of pooling and spending huge amounts on vanity.” </p><p>The party criticised Chief Minister N. Chandrababu Naidu for “failing to rein in land sharks and sand mafia, the anarchy of whom has reached unmanageable levels.” </p><p>The party leaders were particularly angry over the manner in which the State “owned up” the Central schemes and claimed credit for the initiatives launched with the funds “generously sanctioned by Prime Minister Narendra Modi.” </p><p>Speakers at the meeting flayed hereditary politics in general, and Mr. Naidu’s penchant to groom his son as his political successor at the cost of the State’s development in particular. </p><p>Though the TDP came to power with the support of the BJP and the Jana Sena Party, it started losing credibility due to its “U-turn” politics and, as a result, distanced its allies.</p><p>The political resolution also hailed Mr. Modi for the surgical strikes, GST implementation and Ayushman Bharat scheme, and called upon the people to strengthen the party for a strong India. </p>\n",
            "</div>\n",
            "*******************************************************************\n",
            "[('Modi', 'PERSON'), ('GST', 'ORG'), ('Ayushman Bharat', 'PERSON'), ('India', 'GPE')]\n",
            "-----------------------------------------------------------------------\n",
            "<div id=\"content-body-14269002-26489481\">\n",
            "<p>The BJP State executive meeting on Sunday, which coincided with the announcement of the election schedule, could not have come at a better time for the party to call the “bluff” of the TDP government, which had been accusing the Centre of betraying the people of Andhra Pradesh.</p><p>The party leaders left no stone unturned in proving the TDP wrong and minced no words in lashing out at Chief Minister Chandrababu Naidu for “pocketing” Central funds and still crying foul on “lack of support.”</p><p>In fact, the crucial meeting directed the party workers to go into the public to explain the Centre’s “generous support” to A.P., and also how the State government allegedly diverted funds to benefit its leaders.</p><p>The Special Category Status (SCS), an issue that supposedly kept the BJP on the back foot and, at the same time, proved to be a major weapon in the arsenal of other parties, surprisingly came to its rescue. </p><p>Himachal Pradesh Chief Minister Jai Ram Thakur, who attended the meeting as special guest, made it clear that there was no SCS for his State, though it once enjoyed the tag. </p><h2>‘CM spreading canards’ </h2><p>“Mr. Naidu is spreading canards that SCS is denied only to A.P. He knows well that the SCS tag was withdrawn as recommended by the 14th Finance Commission formed by the previous UPA government, but he conveniently blames the NDA government,” he said. He expressed delight to visit the State when the “corrupt and nepotist” TDP rule was about to end, hinting at the initiation of the election process. </p><p>Reeling out statistics, he said the Centre had released ₹5.56 lakh crore in the last five years against the UPA’s ₹1.16 lakh crore. </p><p>It gave ₹900 crore exclusively for the drought-prone farmers. “Mr. Naidu does not have the habit of appreciating Narendra Modi but claims credit for everything.”</p><h2>‘Scams galore’</h2><p>Accusing the TDP government of indulging in scams worth thousands of crores in land acquisition for the Bhogapuram airport, the Machilipatnam port and the Amaravati capital area, Mr. Thakur wondered that the quantum of scams was higher than his small State’s annual budget of ₹42,000 crore. </p><p>State BJP president Kanna Lakshminarayana breathed fire on the TDP for spreading lies and showing the BJP in poor light, in spite of immensely benefiting from the alliance. State in-charge V. Muraleedharan, MP K. Haribabu, Rajya Sabha member G.V.L. Narasimha Rao, former Union Ministers U.V. Krishnam Raju and D. Purandeswari, MLC Somu Veerraju, leaders S.Suresh Reddy and PVN Madhav participated.</p>\n",
            "</div>\n",
            "*******************************************************************\n",
            "[('Kanna Lakshminarayana', 'PERSON'), ('TDP', 'ORG'), ('V. Muraleedharan', 'PERSON'), ('K. Haribabu', 'PERSON'), ('Rajya Sabha', 'PERSON'), ('G.V.L. Narasimha', 'PERSON'), ('Union Ministers', 'ORG'), ('Krishnam Raju', 'PERSON'), ('D. Purandeswari', 'PERSON'), ('MLC Somu Veerraju', 'PERSON'), ('PVN Madhav', 'ORG')]\n",
            "-----------------------------------------------------------------------\n",
            "<div id=\"content-body-14269002-26489477\">\n",
            "<p>Krishna Collector A. Md. Imtiaz on Sunday said that a total of 108 auxiliary polling stations would be set up across the district with the increase in the number of total voters from 33,03,592 in January to 34,12,581 by Sunday. The 3,968 regular polling stations would function as usual. </p><p>Mr. Imtiaz told the media that 30,000 form-6 applications received for enrolment of voters were yet to be verified. “March 15 is the last date to accept the form-6 applications. Only 5,000 votes of those found dead have been deleted,” he added.</p><p>Mr. Imtiaz said that nominations would be accepted from March 18 and the last date for withdrawal is March 28 as per the schedule. The election in the two parliamentary constituencies - Machilipatnam and Vijayawada - and 16 Assembly constituencies will be held on April 11.</p><p>“The issue of fake form-7 applications is being investigated by the Special Investigation Team. The Election Commission of Andhra Pradesh has ensured 1,000 more VVPATs (voter verifiable paper audit trail) for Krishna district in a few days,” said Mr. Imtiaz. </p><h2>Vigil on borders</h2><p>In the joint press conference, Superintendent of Police Sarvasresth Tripathy said that the talks with the Telangana police have been completed to ensure a robust vigil on the borders of Andhra Pradesh and Telangana to implement the model code of conduct.</p><p>“The SIT investigating the fake form-7 applications is in touch with us. A request has been made to the Central government for the required strength of the paramilitary forces,” said Mr. Tripathy. </p><p>“A total of six sensitive polling stations have been identified and an action plan to conduct the election has been prepared,” he said, adding the district authorities were waiting for certain guidelines to keep an eye on the campaigns on social media.</p>\n",
            "</div>\n",
            "*******************************************************************\n",
            "[('six', 'CARDINAL')]\n",
            "-----------------------------------------------------------------------\n"
          ],
          "name": "stdout"
        }
      ]
    },
    {
      "metadata": {
        "id": "62NJu03zB5-9",
        "colab_type": "code",
        "colab": {}
      },
      "cell_type": "code",
      "source": [
        ""
      ],
      "execution_count": 0,
      "outputs": []
    }
  ]
}